{
  "nbformat": 4,
  "nbformat_minor": 0,
  "metadata": {
    "colab": {
      "name": "Python web image crawler",
      "provenance": [],
      "collapsed_sections": [],
      "authorship_tag": "ABX9TyMpFCcDjFbieBmQIOYQa2Eg",
      "include_colab_link": true
    },
    "kernelspec": {
      "name": "python3",
      "display_name": "Python 3"
    }
  },
  "cells": [
    {
      "cell_type": "markdown",
      "metadata": {
        "id": "view-in-github",
        "colab_type": "text"
      },
      "source": [
        "<a href=\"https://colab.research.google.com/github/chan-woong/self-study/blob/master/Python_web_image_crawler.ipynb\" target=\"_parent\"><img src=\"https://colab.research.google.com/assets/colab-badge.svg\" alt=\"Open In Colab\"/></a>"
      ]
    },
    {
      "cell_type": "code",
      "metadata": {
        "id": "fjYngTozar9v"
      },
      "source": [
        "from bs4 import BeautifulSoup\n",
        "from urllib.request import Request, urlopen,urlretrieve\n",
        "#저장할 이미지 경로 및 이름 (data폴더에 cat0.jpg 형식으로 저장)\n",
        "imageNum = 0\n",
        "imageStr = \"data/cat\"\n",
        "\n",
        "#웹페이지의 소스를 가져온다.\n",
        "url = \"https://www.istockphoto.com/kr/%EC%9D%B4%EB%AF%B8%EC%A7%80/cat?mediatype=photography&phrase=cat&sort=mostpopular\"\n",
        "req = Request(url, headers={'User-Agent': 'Mozilla/5.0'})\n",
        "source = urlopen(req).read()\n",
        "\n",
        "#소스에서 rg_i Q4LuWd 클래스 하위의 소스를 가져온다.\n",
        "soup = BeautifulSoup(source, 'html.parser')\n",
        "soup = soup.find_all(class_='gallery-asset__thumb gallery-mosaic-asset__thumb')\n",
        "\n",
        "#이미지 경로를 받아 로컬에 저장한다.\n",
        "while imageNum < 10:\n",
        "    for i in soup:\n",
        "        imageNum += 1\n",
        "        imgURL = i['src']\n",
        "        urlretrieve(imgURL,imageStr + str(imageNum) + \".jpg\")\n",
        "        print(imgURL)\n",
        "        print(imageNum)\n"
      ],
      "execution_count": null,
      "outputs": []
    }
  ]
}